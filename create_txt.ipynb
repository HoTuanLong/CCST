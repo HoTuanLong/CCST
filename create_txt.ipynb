{
 "cells": [
  {
   "cell_type": "code",
   "execution_count": null,
   "metadata": {},
   "outputs": [],
   "source": [
    "for i in range(6):\n",
    "    f = open(f\"/home/ubuntu/long.ht/CCST/fit{i}.txt\", \"r\")\n",
    "    f2 = open(f'/home/ubuntu/long.ht/CCST/fit{i}_result.txt', 'w')\n",
    "    for x in f:\n",
    "        x = x.strip()\n",
    "        b = str(x + \" \" + x.split('/')[7] + \"\\n\")\n",
    "        print(b)\n",
    "        f2.write(b)\n",
    "    f.close()\n",
    "    f2.close()"
   ]
  },
  {
   "cell_type": "code",
   "execution_count": null,
   "metadata": {},
   "outputs": [],
   "source": []
  }
 ],
 "metadata": {
  "language_info": {
   "name": "python"
  },
  "orig_nbformat": 4
 },
 "nbformat": 4,
 "nbformat_minor": 2
}
